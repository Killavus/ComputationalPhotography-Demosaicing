{
 "cells": [
  {
   "cell_type": "code",
   "execution_count": 1,
   "metadata": {
    "collapsed": false
   },
   "outputs": [
    {
     "name": "stderr",
     "output_type": "stream",
     "text": [
      "/Users/Killavus/anaconda/lib/python3.5/site-packages/matplotlib/font_manager.py:273: UserWarning: Matplotlib is building the font cache using fc-list. This may take a moment.\n",
      "  warnings.warn('Matplotlib is building the font cache using fc-list. This may take a moment.')\n",
      "/Users/Killavus/anaconda/lib/python3.5/site-packages/matplotlib/font_manager.py:273: UserWarning: Matplotlib is building the font cache using fc-list. This may take a moment.\n",
      "  warnings.warn('Matplotlib is building the font cache using fc-list. This may take a moment.')\n"
     ]
    },
    {
     "name": "stdout",
     "output_type": "stream",
     "text": [
      "Using matplotlib backend: MacOSX\n",
      "Populating the interactive namespace from numpy and matplotlib\n"
     ]
    }
   ],
   "source": [
    "%pylab"
   ]
  },
  {
   "cell_type": "code",
   "execution_count": 2,
   "metadata": {
    "collapsed": true
   },
   "outputs": [],
   "source": [
    "from scipy import ndimage"
   ]
  },
  {
   "cell_type": "code",
   "execution_count": 8,
   "metadata": {
    "collapsed": false
   },
   "outputs": [
    {
     "name": "stdout",
     "output_type": "stream",
     "text": [
      "(768, 512) (768, 512, 3)\n"
     ]
    }
   ],
   "source": [
    "rawImage = ndimage.imread('lighthouse_RAW_noisy_sigma0.01.png')\n",
    "\n",
    "width, height = rawImage.shape\n",
    "pattern = [['r', 'g'],\n",
    "           ['g', 'b']]\n",
    "\n",
    "def linearInterpolate(rawImage, targetColor, pattern, x, y):\n",
    "    patternDelta = (x % 2, y % 2)\n",
    "    pixelColorType = pattern[patternDelta[0]][patternDelta[1]]\n",
    "    \n",
    "    # 2 colors (case pct = 'g')\n",
    "    # 4 colors (case pct = 'r', pct = 'b')\n",
    "    \n",
    "    if pixelColorType == 'g':\n",
    "        \n",
    "    else:\n",
    "        targetColorDelta = (-1, -1)\n",
    "        if targetColor in pattern[0]:\n",
    "            targetColorDeltas = (pattern[0].index(targetColor), 0)\n",
    "        if targetColor in pattern[1]:\n",
    "            targetColorDeltas = (pattern[1].index(targetColor), 1)\n",
    "        \n",
    "        if targetColorDelta == (-1, -1):\n",
    "            raise ArgumentError\n",
    "            \n",
    "        xOffset = abs(patternDelta[0] - targetColorDelta[0])\n",
    "        yOffset = abs(patternDelta[1] - targetColorDelta[1])\n",
    "        \n",
    "        interpolationPoints = [\n",
    "            (x - xOffset, y - yOffset),\n",
    "            (x + xOffset, y - yOffset),\n",
    "            (x - xOffset, y + yOffset),\n",
    "            (x + xOffset, y + yOffset)\n",
    "        ]\n",
    "        \n",
    "        interpolationPoints = filter(lambda x, y: (x > -1 && x < rawImage.shape[0]), interpolationPoints)\n",
    "        interpolationPoints = filter(lambda x, y: (y > -1 && y < rawImage.shape[1]), interpolationPoints)\n",
    "        interpolationPoints = list(set(interpolationPoints))\n",
    "        \n",
    "        return float(sum(interpolationPoints)) / len(interpolationPoints)\n",
    "        \n",
    "def computeColor(rawImage, pattern, targetColor, isReal, x, y):\n",
    "    if isReal:\n",
    "        return rawImage[x, y]\n",
    "    else:        \n",
    "        return linearInterpolate(rawImage, colorType, pattern, x, y)\n",
    "\n",
    "for x in range(width):\n",
    "    for y in range(height):\n",
    "        isRealR = pattern[x % 2][y % 2] == 'r'\n",
    "        isRealG = pattern[x % 2][y % 2] == 'g'\n",
    "        isRealB = pattern[x % 2][y % 2] == 'b'\n",
    "        \n",
    "        rValue = computeColor(rawImage, pattern, 'r', isRealR, x, y)\n",
    "        gValue = computeColor(rawImage, pattern, 'g', isRealG, x, y)\n",
    "        bValue = computeColor(rawImage, pattern, 'b', isRealB, x, y)\n",
    "        "
   ]
  },
  {
   "cell_type": "code",
   "execution_count": null,
   "metadata": {
    "collapsed": true
   },
   "outputs": [],
   "source": []
  }
 ],
 "metadata": {
  "kernelspec": {
   "display_name": "Python 3",
   "language": "python",
   "name": "python3"
  },
  "language_info": {
   "codemirror_mode": {
    "name": "ipython",
    "version": 3
   },
   "file_extension": ".py",
   "mimetype": "text/x-python",
   "name": "python",
   "nbconvert_exporter": "python",
   "pygments_lexer": "ipython3",
   "version": "3.5.1"
  }
 },
 "nbformat": 4,
 "nbformat_minor": 0
}
